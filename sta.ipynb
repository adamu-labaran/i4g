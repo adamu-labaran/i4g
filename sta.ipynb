{
 "cells": [
  {
   "cell_type": "code",
   "execution_count": null,
   "metadata": {},
   "outputs": [],
   "source": [
    "# Import numpy with alias np\n",
    "inport numpy as np\n",
    "\n",
    "# Filter for Belgium\n",
    "be_consumption = \n",
    "\n",
    "# Filter for USA\n",
    "usa_consumption = ____\n",
    "\n",
    "# Calculate mean and median consumption in Belgium\n",
    "print(____)\n",
    "print(____)\n",
    "\n",
    "# Calculate mean and median consumption in USA\n",
    "print(____)\n",
    "print(____)\n",
    "\n",
    "\n",
    "Import numpy with the alias np.\n",
    "Create two DataFrames: one that holds the rows of food_consumption for 'Belgium' and another that holds rows for 'USA'. Call these be_consumption and usa_consumption.\n",
    "Calculate the mean and median of kilograms of food consumed per person per year for both countries."
   ]
  },
  {
   "cell_type": "code",
   "execution_count": null,
   "metadata": {},
   "outputs": [],
   "source": [
    "import pandas as pd\n",
    "import numpy as np\n",
    "\n",
    "# Assuming you have a DataFrame named food_consumption with columns like 'Country' and 'Food Consumption'\n",
    "# For demonstration purposes, let's assume the DataFrame structure and data\n",
    "\n",
    "# Create a sample DataFrame\n",
    "data = {'Country': ['Belgium', 'USA', 'Belgium', 'USA', 'Belgium', 'USA'],\n",
    "        'Food Consumption': [100, 150, 120, 140, 110, 160]}  # Sample data\n",
    "food_consumption = pd.DataFrame(data)\n",
    "\n",
    "# Filter for Belgium\n",
    "be_consumption = food_consumption[food_consumption['Country'] == 'Belgium']['Food Consumption']\n",
    "\n",
    "# Filter for USA\n",
    "usa_consumption = food_consumption[food_consumption['Country'] == 'USA']['Food Consumption']\n",
    "\n",
    "# Calculate mean and median consumption in Belgium\n",
    "mean_be = np.mean(be_consumption)\n",
    "median_be = np.median(be_consumption)\n",
    "print(\"Mean consumption in Belgium:\", mean_be)\n",
    "print(\"Median consumption in Belgium:\", median_be)\n",
    "\n",
    "# Calculate mean and median consumption in USA\n",
    "mean_usa = np.mean(usa_consumption)\n",
    "median_usa = np.median(usa_consumption)\n",
    "print(\"Mean consumption in USA:\", mean_usa)\n",
    "print(\"Median consumption in USA:\", median_usa)\n"
   ]
  },
  {
   "cell_type": "code",
   "execution_count": null,
   "metadata": {},
   "outputs": [],
   "source": [
    "import pandas as pd\n",
    "import numpy as np\n",
    "\n",
    "# Assuming you have a DataFrame named food_consumption with columns like 'Country' and 'Food Consumption'\n",
    "# For demonstration purposes, let's assume the DataFrame structure and data\n",
    "\n",
    "# Create a sample DataFrame\n",
    "data = {'Country': ['Belgium', 'USA', 'Belgium', 'USA', 'Belgium', 'USA'],\n",
    "        'Food Consumption': [100, 150, 120, 140, 110, 160]}  # Sample data\n",
    "food_consumption = pd.DataFrame(data)\n",
    "\n",
    "# Filter for Belgium\n",
    "be_consumption = food_consumption[food_consumption['Country'] == 'Belgium']['Food Consumption']\n",
    "\n",
    "# Filter for USA\n",
    "usa_consumption = food_consumption[food_consumption['Country'] == 'USA']['Food Consumption']\n",
    "\n",
    "# Calculate mean and median consumption in Belgium\n",
    "mean_be = np.mean(be_consumption)\n",
    "median_be = np.median(be_consumption)\n",
    "print(\"Mean consumption in Belgium:\", mean_be)\n",
    "print(\"Median consumption in Belgium:\", median_be)\n",
    "\n",
    "# Calculate mean and median consumption in USA\n",
    "mean_usa = np.mean(usa_consumption)\n",
    "median_usa = np.median(usa_consumption)\n",
    "print(\"Mean consumption in USA:\", mean_usa)\n",
    "print(\"Median consumption in USA:\", median_usa)\n"
   ]
  },
  {
   "cell_type": "code",
   "execution_count": null,
   "metadata": {},
   "outputs": [],
   "source": []
  }
 ],
 "metadata": {
  "language_info": {
   "name": "python"
  }
 },
 "nbformat": 4,
 "nbformat_minor": 2
}
